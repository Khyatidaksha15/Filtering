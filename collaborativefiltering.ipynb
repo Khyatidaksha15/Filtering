{
  "nbformat": 4,
  "nbformat_minor": 0,
  "metadata": {
    "colab": {
      "provenance": [],
      "authorship_tag": "ABX9TyOTR9HpIMfsrq1kNNqxom5f",
      "include_colab_link": true
    },
    "kernelspec": {
      "name": "python3",
      "display_name": "Python 3"
    },
    "language_info": {
      "name": "python"
    }
  },
  "cells": [
    {
      "cell_type": "markdown",
      "metadata": {
        "id": "view-in-github",
        "colab_type": "text"
      },
      "source": [
        "<a href=\"https://colab.research.google.com/github/Khyatidaksha15/Filtering/blob/main/collaborativefiltering.ipynb\" target=\"_parent\"><img src=\"https://colab.research.google.com/assets/colab-badge.svg\" alt=\"Open In Colab\"/></a>"
      ]
    },
    {
      "cell_type": "code",
      "execution_count": 1,
      "metadata": {
        "id": "fK5WP6_gx6Uk"
      },
      "outputs": [],
      "source": [
        "import pandas as pd\n",
        "import numpy as np\n",
        "\n",
        "from sklearn.feature_extraction.text import TfidfVectorizer\n",
        "from sklearn.metrics.pairwise import cosine_similarity"
      ]
    },
    {
      "cell_type": "code",
      "source": [
        "df = pd.read_csv('/content/IMDB_Top250Engmovies2_OMDB_Detailed.csv')"
      ],
      "metadata": {
        "id": "iM2D6g5fydF3"
      },
      "execution_count": 2,
      "outputs": []
    },
    {
      "cell_type": "code",
      "source": [
        "df.info()"
      ],
      "metadata": {
        "colab": {
          "base_uri": "https://localhost:8080/"
        },
        "id": "Ht1HlHcqyhCs",
        "outputId": "fb4de7fb-9cb4-4365-ba62-061e67fc5991"
      },
      "execution_count": 3,
      "outputs": [
        {
          "output_type": "stream",
          "name": "stdout",
          "text": [
            "<class 'pandas.core.frame.DataFrame'>\n",
            "RangeIndex: 250 entries, 0 to 249\n",
            "Data columns (total 38 columns):\n",
            " #   Column             Non-Null Count  Dtype  \n",
            "---  ------             --------------  -----  \n",
            " 0   Index              250 non-null    int64  \n",
            " 1   Title              250 non-null    object \n",
            " 2   Year               250 non-null    int64  \n",
            " 3   Rated              250 non-null    object \n",
            " 4   Released           248 non-null    object \n",
            " 5   Runtime            250 non-null    object \n",
            " 6   Genre              250 non-null    object \n",
            " 7   Director           250 non-null    object \n",
            " 8   Writer             249 non-null    object \n",
            " 9   Actors             250 non-null    object \n",
            " 10  Plot               250 non-null    object \n",
            " 11  Language           250 non-null    object \n",
            " 12  Country            250 non-null    object \n",
            " 13  Awards             245 non-null    object \n",
            " 14  Poster             250 non-null    object \n",
            " 15  Ratings.Source     250 non-null    object \n",
            " 16  Ratings.Value      250 non-null    float64\n",
            " 17  Metascore          177 non-null    float64\n",
            " 18  imdbRating         250 non-null    float64\n",
            " 19  imdbVotes          250 non-null    object \n",
            " 20  imdbID             250 non-null    object \n",
            " 21  Type               250 non-null    object \n",
            " 22  tomatoMeter        0 non-null      float64\n",
            " 23  tomatoImage        0 non-null      float64\n",
            " 24  tomatoRating       0 non-null      float64\n",
            " 25  tomatoReviews      0 non-null      float64\n",
            " 26  tomatoFresh        0 non-null      float64\n",
            " 27  tomatoRotten       0 non-null      float64\n",
            " 28  tomatoConsensus    0 non-null      float64\n",
            " 29  tomatoUserMeter    0 non-null      float64\n",
            " 30  tomatoUserRating   0 non-null      float64\n",
            " 31  tomatoUserReviews  0 non-null      float64\n",
            " 32  tomatoURL          250 non-null    object \n",
            " 33  DVD                247 non-null    object \n",
            " 34  BoxOffice          75 non-null     object \n",
            " 35  Production         250 non-null    object \n",
            " 36  Website            131 non-null    object \n",
            " 37  Response           250 non-null    bool   \n",
            "dtypes: bool(1), float64(13), int64(2), object(22)\n",
            "memory usage: 72.6+ KB\n"
          ]
        }
      ]
    },
    {
      "cell_type": "code",
      "source": [
        "df = df.dropna(axis=1, how='all')"
      ],
      "metadata": {
        "id": "Njm_6xoLy2Z4"
      },
      "execution_count": 4,
      "outputs": []
    },
    {
      "cell_type": "code",
      "source": [
        "df.info()"
      ],
      "metadata": {
        "colab": {
          "base_uri": "https://localhost:8080/"
        },
        "id": "nNjOCu1ty4Bu",
        "outputId": "ade0dc27-b3a9-4f33-83be-c16f90332d8b"
      },
      "execution_count": 5,
      "outputs": [
        {
          "output_type": "stream",
          "name": "stdout",
          "text": [
            "<class 'pandas.core.frame.DataFrame'>\n",
            "RangeIndex: 250 entries, 0 to 249\n",
            "Data columns (total 28 columns):\n",
            " #   Column          Non-Null Count  Dtype  \n",
            "---  ------          --------------  -----  \n",
            " 0   Index           250 non-null    int64  \n",
            " 1   Title           250 non-null    object \n",
            " 2   Year            250 non-null    int64  \n",
            " 3   Rated           250 non-null    object \n",
            " 4   Released        248 non-null    object \n",
            " 5   Runtime         250 non-null    object \n",
            " 6   Genre           250 non-null    object \n",
            " 7   Director        250 non-null    object \n",
            " 8   Writer          249 non-null    object \n",
            " 9   Actors          250 non-null    object \n",
            " 10  Plot            250 non-null    object \n",
            " 11  Language        250 non-null    object \n",
            " 12  Country         250 non-null    object \n",
            " 13  Awards          245 non-null    object \n",
            " 14  Poster          250 non-null    object \n",
            " 15  Ratings.Source  250 non-null    object \n",
            " 16  Ratings.Value   250 non-null    float64\n",
            " 17  Metascore       177 non-null    float64\n",
            " 18  imdbRating      250 non-null    float64\n",
            " 19  imdbVotes       250 non-null    object \n",
            " 20  imdbID          250 non-null    object \n",
            " 21  Type            250 non-null    object \n",
            " 22  tomatoURL       250 non-null    object \n",
            " 23  DVD             247 non-null    object \n",
            " 24  BoxOffice       75 non-null     object \n",
            " 25  Production      250 non-null    object \n",
            " 26  Website         131 non-null    object \n",
            " 27  Response        250 non-null    bool   \n",
            "dtypes: bool(1), float64(3), int64(2), object(22)\n",
            "memory usage: 53.1+ KB\n"
          ]
        }
      ]
    },
    {
      "cell_type": "code",
      "source": [
        "import pandas as pd\n",
        "import numpy as np\n",
        "\n",
        "# Load IMDb data from a CSV file\n",
        "# Replace 'imdb_data.csv' with the path to your actual CSV file\n",
        "imdb_data = pd.read_csv('/content/IMDB_Top250Engmovies2_OMDB_Detailed.csv')\n",
        "\n",
        "# Preview the dataset\n",
        "print(imdb_data.head())\n",
        "\n",
        "# Number of synthetic users to create\n",
        "num_users = 1000\n",
        "\n",
        "# Generate synthetic user IDs\n",
        "user_ids = [f'user_{i}' for i in range(1, num_users + 1)]\n",
        "\n",
        "# Define the number of ratings per user (e.g., each user rates 10-20 random movies)\n",
        "ratings_per_user = np.random.randint(10, 20, size=num_users)\n",
        "\n",
        "# Generate synthetic user-movie-rating data\n",
        "synthetic_data = []\n",
        "\n",
        "for user_id, num_ratings in zip(user_ids, ratings_per_user):\n",
        "    # Randomly sample movies for this user\n",
        "    sampled_movies = imdb_data.sample(n=num_ratings, replace=False)\n",
        "\n",
        "    for _, movie in sampled_movies.iterrows():\n",
        "        # Assign a random rating between 1 and 10\n",
        "        rating = np.random.uniform(1, 10)\n",
        "        synthetic_data.append([user_id, movie['Title'], rating])\n",
        "\n",
        "# Create a DataFrame with synthetic user data\n",
        "user_ratings_df = pd.DataFrame(synthetic_data, columns=['user_id', 'title', 'rating'])\n",
        "\n",
        "# Display the synthetic dataset\n",
        "print(user_ratings_df.head())\n"
      ],
      "metadata": {
        "colab": {
          "base_uri": "https://localhost:8080/"
        },
        "id": "Cf-X9doXzeSN",
        "outputId": "e9d9e03f-f822-4f72-a306-e77a8aabb15f"
      },
      "execution_count": 7,
      "outputs": [
        {
          "output_type": "stream",
          "name": "stdout",
          "text": [
            "   Index                     Title  Year     Rated   Released  Runtime  \\\n",
            "0      1  The Shawshank Redemption  1994         R  14-Oct-94  142 min   \n",
            "1      2             The Godfather  1972         R  24-Mar-72  175 min   \n",
            "2      3    The Godfather: Part II  1974         R  20-Dec-74  202 min   \n",
            "3      4           The Dark Knight  2008     PG-13  18-Jul-08  152 min   \n",
            "4      5              12 Angry Men  1957  APPROVED  01-Apr-57   96 min   \n",
            "\n",
            "                  Genre              Director  \\\n",
            "0          Crime, Drama        Frank Darabont   \n",
            "1          Crime, Drama  Francis Ford Coppola   \n",
            "2          Crime, Drama  Francis Ford Coppola   \n",
            "3  Action, Crime, Drama     Christopher Nolan   \n",
            "4          Crime, Drama          Sidney Lumet   \n",
            "\n",
            "                                              Writer  \\\n",
            "0  Stephen King (short story \"Rita Hayworth and S...   \n",
            "1  Mario Puzo (screenplay), Francis Ford Coppola ...   \n",
            "2  Francis Ford Coppola (screenplay), Mario Puzo ...   \n",
            "3  Jonathan Nolan (screenplay), Christopher Nolan...   \n",
            "4  Reginald Rose (story), Reginald Rose (screenplay)   \n",
            "\n",
            "                                              Actors  ... tomatoConsensus  \\\n",
            "0  Tim Robbins, Morgan Freeman, Bob Gunton, Willi...  ...             NaN   \n",
            "1  Marlon Brando, Al Pacino, James Caan, Richard ...  ...             NaN   \n",
            "2  Al Pacino, Robert Duvall, Diane Keaton, Robert...  ...             NaN   \n",
            "3  Christian Bale, Heath Ledger, Aaron Eckhart, M...  ...             NaN   \n",
            "4  Martin Balsam, John Fiedler, Lee J. Cobb, E.G....  ...             NaN   \n",
            "\n",
            "  tomatoUserMeter tomatoUserRating tomatoUserReviews  \\\n",
            "0             NaN              NaN               NaN   \n",
            "1             NaN              NaN               NaN   \n",
            "2             NaN              NaN               NaN   \n",
            "3             NaN              NaN               NaN   \n",
            "4             NaN              NaN               NaN   \n",
            "\n",
            "                                           tomatoURL        DVD     BoxOffice  \\\n",
            "0  http://www.rottentomatoes.com/m/shawshank_rede...  27-Jan-98           NaN   \n",
            "1         http://www.rottentomatoes.com/m/godfather/  09-Oct-01           NaN   \n",
            "2  http://www.rottentomatoes.com/m/godfather_part...  24-May-05           NaN   \n",
            "3   http://www.rottentomatoes.com/m/the_dark_knight/  09-Dec-08  $533,316,061   \n",
            "4  http://www.rottentomatoes.com/m/1000013-12_ang...  06-Mar-01           NaN   \n",
            "\n",
            "                        Production  \\\n",
            "0                Columbia Pictures   \n",
            "1               Paramount Pictures   \n",
            "2               Paramount Pictures   \n",
            "3  Warner Bros. Pictures/Legendary   \n",
            "4             Criterion Collection   \n",
            "\n",
            "                                             Website Response  \n",
            "0                                                NaN     True  \n",
            "1                        http://www.thegodfather.com     True  \n",
            "2                       http://www.thegodfather.com/     True  \n",
            "3               http://thedarkknight.warnerbros.com/     True  \n",
            "4  http://www.criterion.com/films/27871-12-angry-men     True  \n",
            "\n",
            "[5 rows x 38 columns]\n",
            "  user_id                         title    rating\n",
            "0  user_1                     Spotlight  9.590559\n",
            "1  user_1  Mr. Smith Goes to Washington  1.226679\n",
            "2  user_1            American History X  9.292202\n",
            "3  user_1                      Whiplash  1.068272\n",
            "4  user_1               Song of the Sea  4.321147\n"
          ]
        }
      ]
    },
    {
      "cell_type": "code",
      "source": [
        "!pip install scikit-surprise\n",
        "\n",
        "from surprise import Dataset, Reader, SVD\n",
        "from surprise.model_selection import train_test_split\n",
        "from surprise import accuracy"
      ],
      "metadata": {
        "colab": {
          "base_uri": "https://localhost:8080/"
        },
        "id": "FlqI9Bb8E64u",
        "outputId": "cd9a6151-d7fb-4bc5-b5bd-d1d895bd2c30"
      },
      "execution_count": 13,
      "outputs": [
        {
          "output_type": "stream",
          "name": "stdout",
          "text": [
            "Requirement already satisfied: scikit-surprise in /usr/local/lib/python3.10/dist-packages (1.1.4)\n",
            "Requirement already satisfied: joblib>=1.2.0 in /usr/local/lib/python3.10/dist-packages (from scikit-surprise) (1.4.2)\n",
            "Requirement already satisfied: numpy>=1.19.5 in /usr/local/lib/python3.10/dist-packages (from scikit-surprise) (1.26.4)\n",
            "Requirement already satisfied: scipy>=1.6.0 in /usr/local/lib/python3.10/dist-packages (from scikit-surprise) (1.13.1)\n"
          ]
        }
      ]
    },
    {
      "cell_type": "code",
      "source": [
        "reader = Reader(rating_scale=(1, 10))\n",
        "data = Dataset.load_from_df(user_ratings_df[['user_id', 'title', 'rating']], reader)"
      ],
      "metadata": {
        "id": "mFkG6NfwE_rA"
      },
      "execution_count": 14,
      "outputs": []
    },
    {
      "cell_type": "code",
      "source": [
        "trainset, testset = train_test_split(data, test_size=0.2, random_state=42)"
      ],
      "metadata": {
        "id": "kOrawUQ6FCau"
      },
      "execution_count": 15,
      "outputs": []
    },
    {
      "cell_type": "code",
      "source": [
        "svd = SVD()\n",
        "svd.fit(trainset)"
      ],
      "metadata": {
        "colab": {
          "base_uri": "https://localhost:8080/"
        },
        "id": "yTANJt0sFHXx",
        "outputId": "d2f1643e-0e04-4a7c-8a8a-61a670aeb7fe"
      },
      "execution_count": 16,
      "outputs": [
        {
          "output_type": "execute_result",
          "data": {
            "text/plain": [
              "<surprise.prediction_algorithms.matrix_factorization.SVD at 0x7fc440cd82e0>"
            ]
          },
          "metadata": {},
          "execution_count": 16
        }
      ]
    },
    {
      "cell_type": "code",
      "source": [
        "predictions = svd.test(testset)\n",
        "rmse = accuracy.rmse(predictions)\n",
        "print(f'RMSE: {rmse}')"
      ],
      "metadata": {
        "colab": {
          "base_uri": "https://localhost:8080/"
        },
        "id": "0PliZIQ7FL24",
        "outputId": "7c36ccf8-3052-43e6-a977-547f797c5059"
      },
      "execution_count": 17,
      "outputs": [
        {
          "output_type": "stream",
          "name": "stdout",
          "text": [
            "RMSE: 2.6634\n",
            "RMSE: 2.66337156867304\n"
          ]
        }
      ]
    },
    {
      "cell_type": "code",
      "source": [
        "user_id = 'user_17'  # Replace with any synthetic user ID from user_ratings_df\n",
        "all_titles = user_ratings_df['title'].unique()\n"
      ],
      "metadata": {
        "id": "ip2Gw_PTFP2t"
      },
      "execution_count": 18,
      "outputs": []
    },
    {
      "cell_type": "code",
      "source": [
        "user_rated_titles = user_ratings_df[user_ratings_df['user_id'] == user_id]['title']\n",
        "unrated_titles = [title for title in all_titles if title not in user_rated_titles.values]\n"
      ],
      "metadata": {
        "id": "mdMhNbwdFU4m"
      },
      "execution_count": 19,
      "outputs": []
    },
    {
      "cell_type": "code",
      "source": [
        "recommendations = []\n",
        "for title in unrated_titles:\n",
        "    est_rating = svd.predict(user_id, title).est\n",
        "    recommendations.append((title, est_rating))\n",
        "\n",
        "recommendations.sort(key=lambda x: x[1], reverse=True)"
      ],
      "metadata": {
        "id": "ziwkSZxqFYKg"
      },
      "execution_count": 20,
      "outputs": []
    },
    {
      "cell_type": "code",
      "source": [
        "print(\"Top 5 movie recommendations for user:\", user_id)\n",
        "for title, rating in recommendations[:5]:\n",
        "    print(f\"{title}: estimated rating {rating:.2f}\")"
      ],
      "metadata": {
        "colab": {
          "base_uri": "https://localhost:8080/"
        },
        "id": "2JZAJX5nFgnl",
        "outputId": "d71a2bbc-9673-41f2-da4a-52e6402c2f7f"
      },
      "execution_count": 21,
      "outputs": [
        {
          "output_type": "stream",
          "name": "stdout",
          "text": [
            "Top 5 movie recommendations for user: user_17\n",
            "The Bourne Ultimatum: estimated rating 7.57\n",
            "Saving Private Ryan: estimated rating 7.39\n",
            "Warrior: estimated rating 7.26\n",
            "Hotel Rwanda: estimated rating 6.90\n",
            "Kind Hearts and Coronets: estimated rating 6.87\n"
          ]
        }
      ]
    },
    {
      "cell_type": "code",
      "source": [
        "def recommend_movies_for_user(user_id, num_recommendations=5):\n",
        "    # Ensure the user exists in the dataset\n",
        "    if user_id not in user_ratings_df['user_id'].unique():\n",
        "        print(f\"User ID '{user_id}' not found in dataset.\")\n",
        "        return\n",
        "\n",
        "    # List of all movie titles in the dataset\n",
        "    all_titles = user_ratings_df['title'].unique()\n",
        "\n",
        "    # Find movies the user hasn't rated yet\n",
        "    user_rated_titles = user_ratings_df[user_ratings_df['user_id'] == user_id]['title']\n",
        "    unrated_titles = [title for title in all_titles if title not in user_rated_titles.values]\n",
        "\n",
        "    # Predict ratings for unrated movies and gather recommendations\n",
        "    recommendations = []\n",
        "    for title in unrated_titles:\n",
        "        est_rating = svd.predict(user_id, title).est\n",
        "        recommendations.append((title, est_rating))\n",
        "\n",
        "    # Sort recommendations by estimated rating in descending order\n",
        "    recommendations.sort(key=lambda x: x[1], reverse=True)\n",
        "\n",
        "    # Display top N recommendations\n",
        "    print(f\"Top {num_recommendations} movie recommendations for user '{user_id}':\")\n",
        "    for title, rating in recommendations[:num_recommendations]:\n",
        "        print(f\"{title}: estimated rating {rating:.2f}\")\n",
        "\n",
        "# Example usage\n",
        "user_id_to_recommend = 'user_100'  # Replace with any user ID of your choice\n",
        "recommend_movies_for_user(user_id_to_recommend, num_recommendations=8)\n"
      ],
      "metadata": {
        "colab": {
          "base_uri": "https://localhost:8080/"
        },
        "id": "-TOtJIB10-G3",
        "outputId": "1807b2fe-6a8d-4fff-a65d-e8de2591ef4a"
      },
      "execution_count": 11,
      "outputs": [
        {
          "output_type": "stream",
          "name": "stdout",
          "text": [
            "Top 8 movie recommendations for user 'user_100':\n",
            "The Best Years of Our Lives: estimated rating 7.55\n",
            "The Exorcist: estimated rating 7.49\n",
            "Sleuth: estimated rating 7.25\n",
            "Kill Bill: Vol. 1: estimated rating 7.04\n",
            "The Bourne Ultimatum: estimated rating 7.03\n",
            "Prisoners: estimated rating 7.02\n",
            "Once Upon a Time in America: estimated rating 6.98\n",
            "Rear Window: estimated rating 6.89\n"
          ]
        }
      ]
    },
    {
      "cell_type": "code",
      "source": [
        "user_ratings_df.to_csv('synthetic_user_ratings.csv', index=False)"
      ],
      "metadata": {
        "id": "pTW-6lNlDI61"
      },
      "execution_count": 12,
      "outputs": []
    },
    {
      "cell_type": "code",
      "source": [
        "import pandas as pd\n",
        "import numpy as np\n",
        "\n",
        "# Load the synthetic user ratings dataset\n",
        "user_ratings_df = pd.read_csv('synthetic_user_ratings.csv')\n",
        "\n",
        "# Function to recommend movies based on genre\n",
        "def recommend_movies_by_genre(user_id, genre, num_recommendations=5):\n",
        "    # Get movies from the specified genre\n",
        "    genre_movies = imdb_data[imdb_data['Genre'].str.contains(genre, case=False, na=False)]\n",
        "\n",
        "    # Get movies rated by the user\n",
        "    rated_movies = user_ratings_df[user_ratings_df['user_id'] == user_id]\n",
        "\n",
        "    # Filter out movies that the user has already rated\n",
        "    unrated_movies = genre_movies[~genre_movies['Title'].isin(rated_movies['title'])]\n",
        "\n",
        "    # Sort by rating (assuming higher ratings are better)\n",
        "    recommended_movies = unrated_movies.sort_values(by='imdbRating', ascending=False).head(num_recommendations)\n",
        "\n",
        "    return recommended_movies[['Title', 'imdbRating', 'Genre']]\n",
        "\n",
        "# Example usage\n",
        "user_id = 'user_1'  # Specify the user ID for whom you want recommendations\n",
        "genre = 'Action'     # Specify the genre for recommendations\n",
        "recommendations = recommend_movies_by_genre(user_id, genre)\n",
        "\n",
        "# Display recommended movies\n",
        "print(\"Recommended Movies:\")\n",
        "print(recommendations)\n"
      ],
      "metadata": {
        "colab": {
          "base_uri": "https://localhost:8080/"
        },
        "id": "vBiTeFTKGtyt",
        "outputId": "48865c93-5027-4438-d9e1-f3f41f00160b"
      },
      "execution_count": 26,
      "outputs": [
        {
          "output_type": "stream",
          "name": "stdout",
          "text": [
            "Recommended Movies:\n",
            "                                             Title  imdbRating  \\\n",
            "3                                  The Dark Knight         9.0   \n",
            "12                                       Inception         8.8   \n",
            "11  Star Wars: Episode V - The Empire Strikes Back         8.8   \n",
            "16                                      The Matrix         8.7   \n",
            "31                         Raiders of the Lost Ark         8.5   \n",
            "\n",
            "                         Genre  \n",
            "3         Action, Crime, Drama  \n",
            "12   Action, Adventure, Sci-Fi  \n",
            "11  Action, Adventure, Fantasy  \n",
            "16              Action, Sci-Fi  \n",
            "31           Action, Adventure  \n"
          ]
        }
      ]
    },
    {
      "cell_type": "code",
      "source": [
        "user_id = 'user_100'  # Specify the user ID for whom you want recommendations\n",
        "genre = 'Action'     # Specify the genre for recommendations\n",
        "recommendations = recommend_movies_by_genre(user_id, genre)\n",
        "\n",
        "# Display recommended movies\n",
        "print(\"Recommended Movies:\")\n",
        "print(recommendations)\n"
      ],
      "metadata": {
        "colab": {
          "base_uri": "https://localhost:8080/"
        },
        "id": "xt9e2Vx3yicK",
        "outputId": "168e2264-76f8-4b40-de0f-d3a50dfcf734"
      },
      "execution_count": 27,
      "outputs": [
        {
          "output_type": "stream",
          "name": "stdout",
          "text": [
            "Recommended Movies:\n",
            "                                             Title  imdbRating  \\\n",
            "3                                  The Dark Knight         9.0   \n",
            "12                                       Inception         8.8   \n",
            "11  Star Wars: Episode V - The Empire Strikes Back         8.8   \n",
            "16                                      The Matrix         8.7   \n",
            "17              Star Wars: Episode IV - A New Hope         8.7   \n",
            "\n",
            "                         Genre  \n",
            "3         Action, Crime, Drama  \n",
            "12   Action, Adventure, Sci-Fi  \n",
            "11  Action, Adventure, Fantasy  \n",
            "16              Action, Sci-Fi  \n",
            "17  Action, Adventure, Fantasy  \n"
          ]
        }
      ]
    }
  ]
}