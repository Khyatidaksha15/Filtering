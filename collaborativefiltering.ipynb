{
  "nbformat": 4,
  "nbformat_minor": 0,
  "metadata": {
    "colab": {
      "provenance": [],
      "authorship_tag": "ABX9TyN4YyYpDrGNjB5On5Q/cFAy",
      "include_colab_link": true
    },
    "kernelspec": {
      "name": "python3",
      "display_name": "Python 3"
    },
    "language_info": {
      "name": "python"
    }
  },
  "cells": [
    {
      "cell_type": "markdown",
      "metadata": {
        "id": "view-in-github",
        "colab_type": "text"
      },
      "source": [
        "<a href=\"https://colab.research.google.com/github/Khyatidaksha15/Filtering/blob/main/collaborativefiltering.ipynb\" target=\"_parent\"><img src=\"https://colab.research.google.com/assets/colab-badge.svg\" alt=\"Open In Colab\"/></a>"
      ]
    },
    {
      "cell_type": "code",
      "execution_count": 1,
      "metadata": {
        "id": "fK5WP6_gx6Uk"
      },
      "outputs": [],
      "source": [
        "import pandas as pd\n",
        "import numpy as np\n",
        "\n",
        "from sklearn.feature_extraction.text import TfidfVectorizer\n",
        "from sklearn.metrics.pairwise import cosine_similarity"
      ]
    },
    {
      "cell_type": "code",
      "source": [
        "df = pd.read_csv('/content/IMDB_Top250Engmovies2_OMDB_Detailed.csv')"
      ],
      "metadata": {
        "id": "iM2D6g5fydF3"
      },
      "execution_count": 2,
      "outputs": []
    },
    {
      "cell_type": "code",
      "source": [
        "df.info()"
      ],
      "metadata": {
        "colab": {
          "base_uri": "https://localhost:8080/"
        },
        "id": "Ht1HlHcqyhCs",
        "outputId": "e759a0e0-7113-48d2-bfd3-e590fc13bd1e"
      },
      "execution_count": 3,
      "outputs": [
        {
          "output_type": "stream",
          "name": "stdout",
          "text": [
            "<class 'pandas.core.frame.DataFrame'>\n",
            "RangeIndex: 250 entries, 0 to 249\n",
            "Data columns (total 38 columns):\n",
            " #   Column             Non-Null Count  Dtype  \n",
            "---  ------             --------------  -----  \n",
            " 0   Index              250 non-null    int64  \n",
            " 1   Title              250 non-null    object \n",
            " 2   Year               250 non-null    int64  \n",
            " 3   Rated              250 non-null    object \n",
            " 4   Released           248 non-null    object \n",
            " 5   Runtime            250 non-null    object \n",
            " 6   Genre              250 non-null    object \n",
            " 7   Director           250 non-null    object \n",
            " 8   Writer             249 non-null    object \n",
            " 9   Actors             250 non-null    object \n",
            " 10  Plot               250 non-null    object \n",
            " 11  Language           250 non-null    object \n",
            " 12  Country            250 non-null    object \n",
            " 13  Awards             245 non-null    object \n",
            " 14  Poster             250 non-null    object \n",
            " 15  Ratings.Source     250 non-null    object \n",
            " 16  Ratings.Value      250 non-null    float64\n",
            " 17  Metascore          177 non-null    float64\n",
            " 18  imdbRating         250 non-null    float64\n",
            " 19  imdbVotes          250 non-null    object \n",
            " 20  imdbID             250 non-null    object \n",
            " 21  Type               250 non-null    object \n",
            " 22  tomatoMeter        0 non-null      float64\n",
            " 23  tomatoImage        0 non-null      float64\n",
            " 24  tomatoRating       0 non-null      float64\n",
            " 25  tomatoReviews      0 non-null      float64\n",
            " 26  tomatoFresh        0 non-null      float64\n",
            " 27  tomatoRotten       0 non-null      float64\n",
            " 28  tomatoConsensus    0 non-null      float64\n",
            " 29  tomatoUserMeter    0 non-null      float64\n",
            " 30  tomatoUserRating   0 non-null      float64\n",
            " 31  tomatoUserReviews  0 non-null      float64\n",
            " 32  tomatoURL          250 non-null    object \n",
            " 33  DVD                247 non-null    object \n",
            " 34  BoxOffice          75 non-null     object \n",
            " 35  Production         250 non-null    object \n",
            " 36  Website            131 non-null    object \n",
            " 37  Response           250 non-null    bool   \n",
            "dtypes: bool(1), float64(13), int64(2), object(22)\n",
            "memory usage: 72.6+ KB\n"
          ]
        }
      ]
    },
    {
      "cell_type": "code",
      "source": [
        "df = df.dropna(axis=1, how='all')"
      ],
      "metadata": {
        "id": "Njm_6xoLy2Z4"
      },
      "execution_count": 4,
      "outputs": []
    },
    {
      "cell_type": "code",
      "source": [
        "df.info()"
      ],
      "metadata": {
        "colab": {
          "base_uri": "https://localhost:8080/"
        },
        "id": "nNjOCu1ty4Bu",
        "outputId": "157ba104-ffe3-43c4-ca57-ab080d5127ba"
      },
      "execution_count": 5,
      "outputs": [
        {
          "output_type": "stream",
          "name": "stdout",
          "text": [
            "<class 'pandas.core.frame.DataFrame'>\n",
            "RangeIndex: 250 entries, 0 to 249\n",
            "Data columns (total 28 columns):\n",
            " #   Column          Non-Null Count  Dtype  \n",
            "---  ------          --------------  -----  \n",
            " 0   Index           250 non-null    int64  \n",
            " 1   Title           250 non-null    object \n",
            " 2   Year            250 non-null    int64  \n",
            " 3   Rated           250 non-null    object \n",
            " 4   Released        248 non-null    object \n",
            " 5   Runtime         250 non-null    object \n",
            " 6   Genre           250 non-null    object \n",
            " 7   Director        250 non-null    object \n",
            " 8   Writer          249 non-null    object \n",
            " 9   Actors          250 non-null    object \n",
            " 10  Plot            250 non-null    object \n",
            " 11  Language        250 non-null    object \n",
            " 12  Country         250 non-null    object \n",
            " 13  Awards          245 non-null    object \n",
            " 14  Poster          250 non-null    object \n",
            " 15  Ratings.Source  250 non-null    object \n",
            " 16  Ratings.Value   250 non-null    float64\n",
            " 17  Metascore       177 non-null    float64\n",
            " 18  imdbRating      250 non-null    float64\n",
            " 19  imdbVotes       250 non-null    object \n",
            " 20  imdbID          250 non-null    object \n",
            " 21  Type            250 non-null    object \n",
            " 22  tomatoURL       250 non-null    object \n",
            " 23  DVD             247 non-null    object \n",
            " 24  BoxOffice       75 non-null     object \n",
            " 25  Production      250 non-null    object \n",
            " 26  Website         131 non-null    object \n",
            " 27  Response        250 non-null    bool   \n",
            "dtypes: bool(1), float64(3), int64(2), object(22)\n",
            "memory usage: 53.1+ KB\n"
          ]
        }
      ]
    },
    {
      "cell_type": "code",
      "source": [
        "print(df.head())"
      ],
      "metadata": {
        "colab": {
          "base_uri": "https://localhost:8080/"
        },
        "id": "gQLAKgmDJzxl",
        "outputId": "28b34934-8f0a-41fe-b804-fddd4ba66973"
      },
      "execution_count": 6,
      "outputs": [
        {
          "output_type": "stream",
          "name": "stdout",
          "text": [
            "   Index                     Title  Year     Rated   Released  Runtime  \\\n",
            "0      1  The Shawshank Redemption  1994         R  14-Oct-94  142 min   \n",
            "1      2             The Godfather  1972         R  24-Mar-72  175 min   \n",
            "2      3    The Godfather: Part II  1974         R  20-Dec-74  202 min   \n",
            "3      4           The Dark Knight  2008     PG-13  18-Jul-08  152 min   \n",
            "4      5              12 Angry Men  1957  APPROVED  01-Apr-57   96 min   \n",
            "\n",
            "                  Genre              Director  \\\n",
            "0          Crime, Drama        Frank Darabont   \n",
            "1          Crime, Drama  Francis Ford Coppola   \n",
            "2          Crime, Drama  Francis Ford Coppola   \n",
            "3  Action, Crime, Drama     Christopher Nolan   \n",
            "4          Crime, Drama          Sidney Lumet   \n",
            "\n",
            "                                              Writer  \\\n",
            "0  Stephen King (short story \"Rita Hayworth and S...   \n",
            "1  Mario Puzo (screenplay), Francis Ford Coppola ...   \n",
            "2  Francis Ford Coppola (screenplay), Mario Puzo ...   \n",
            "3  Jonathan Nolan (screenplay), Christopher Nolan...   \n",
            "4  Reginald Rose (story), Reginald Rose (screenplay)   \n",
            "\n",
            "                                              Actors  ... imdbRating  \\\n",
            "0  Tim Robbins, Morgan Freeman, Bob Gunton, Willi...  ...        9.3   \n",
            "1  Marlon Brando, Al Pacino, James Caan, Richard ...  ...        9.2   \n",
            "2  Al Pacino, Robert Duvall, Diane Keaton, Robert...  ...        9.0   \n",
            "3  Christian Bale, Heath Ledger, Aaron Eckhart, M...  ...        9.0   \n",
            "4  Martin Balsam, John Fiedler, Lee J. Cobb, E.G....  ...        8.9   \n",
            "\n",
            "   imdbVotes     imdbID   Type  \\\n",
            "0  18,25,626  tt0111161  movie   \n",
            "1  12,43,444  tt0068646  movie   \n",
            "2   8,56,870  tt0071562  movie   \n",
            "3  18,02,351  tt0468569  movie   \n",
            "4   4,94,215  tt0050083  movie   \n",
            "\n",
            "                                           tomatoURL        DVD     BoxOffice  \\\n",
            "0  http://www.rottentomatoes.com/m/shawshank_rede...  27-Jan-98           NaN   \n",
            "1         http://www.rottentomatoes.com/m/godfather/  09-Oct-01           NaN   \n",
            "2  http://www.rottentomatoes.com/m/godfather_part...  24-May-05           NaN   \n",
            "3   http://www.rottentomatoes.com/m/the_dark_knight/  09-Dec-08  $533,316,061   \n",
            "4  http://www.rottentomatoes.com/m/1000013-12_ang...  06-Mar-01           NaN   \n",
            "\n",
            "                        Production  \\\n",
            "0                Columbia Pictures   \n",
            "1               Paramount Pictures   \n",
            "2               Paramount Pictures   \n",
            "3  Warner Bros. Pictures/Legendary   \n",
            "4             Criterion Collection   \n",
            "\n",
            "                                             Website Response  \n",
            "0                                                NaN     True  \n",
            "1                        http://www.thegodfather.com     True  \n",
            "2                       http://www.thegodfather.com/     True  \n",
            "3               http://thedarkknight.warnerbros.com/     True  \n",
            "4  http://www.criterion.com/films/27871-12-angry-men     True  \n",
            "\n",
            "[5 rows x 28 columns]\n"
          ]
        }
      ]
    },
    {
      "cell_type": "code",
      "source": [
        "num_users = 1000\n",
        "\n",
        "user_ids = [f'user_{i}' for i in range(1, num_users + 1)]\n",
        "ratings_per_user = np.random.randint(10, 20, size=num_users)"
      ],
      "metadata": {
        "id": "xzYgA0xBJ4kh"
      },
      "execution_count": 7,
      "outputs": []
    },
    {
      "cell_type": "code",
      "source": [
        "synthetic_data = []\n",
        "\n",
        "for user_id, num_ratings in zip(user_ids, ratings_per_user):\n",
        "    sampled_movies = df.sample(n=num_ratings, replace=False)\n",
        "\n",
        "    for _, movie in sampled_movies.iterrows():\n",
        "        rating = np.random.uniform(1, 10)\n",
        "        synthetic_data.append([user_id, movie['Title'], rating])"
      ],
      "metadata": {
        "id": "WaYa7heDJ7pL"
      },
      "execution_count": 8,
      "outputs": []
    },
    {
      "cell_type": "code",
      "source": [
        "user_ratings_df = pd.DataFrame(synthetic_data, columns=['user_id', 'title', 'rating'])\n",
        "\n",
        "print(user_ratings_df.head())"
      ],
      "metadata": {
        "colab": {
          "base_uri": "https://localhost:8080/"
        },
        "id": "_8Ve2ia_KLIm",
        "outputId": "910c1a24-d25f-40d4-ec39-31554920db41"
      },
      "execution_count": 9,
      "outputs": [
        {
          "output_type": "stream",
          "name": "stdout",
          "text": [
            "  user_id                            title    rating\n",
            "0  user_1  Monty Python and the Holy Grail  4.554274\n",
            "1  user_1           Spider-Man: Homecoming  5.169770\n",
            "2  user_1   The Nightmare Before Christmas  9.944447\n",
            "3  user_1                    The Apartment  2.368272\n",
            "4  user_1                        Gone Girl  9.125185\n"
          ]
        }
      ]
    },
    {
      "cell_type": "code",
      "source": [
        "!pip install scikit-surprise\n",
        "\n",
        "from surprise import Dataset, Reader, SVD\n",
        "from surprise.model_selection import train_test_split\n",
        "from surprise import accuracy"
      ],
      "metadata": {
        "colab": {
          "base_uri": "https://localhost:8080/"
        },
        "id": "FlqI9Bb8E64u",
        "outputId": "0fa1a2ee-1cbc-427b-aba4-39c4d471d4b5"
      },
      "execution_count": 10,
      "outputs": [
        {
          "output_type": "stream",
          "name": "stdout",
          "text": [
            "Requirement already satisfied: scikit-surprise in /usr/local/lib/python3.10/dist-packages (1.1.4)\n",
            "Requirement already satisfied: joblib>=1.2.0 in /usr/local/lib/python3.10/dist-packages (from scikit-surprise) (1.4.2)\n",
            "Requirement already satisfied: numpy>=1.19.5 in /usr/local/lib/python3.10/dist-packages (from scikit-surprise) (1.26.4)\n",
            "Requirement already satisfied: scipy>=1.6.0 in /usr/local/lib/python3.10/dist-packages (from scikit-surprise) (1.13.1)\n"
          ]
        }
      ]
    },
    {
      "cell_type": "code",
      "source": [
        "reader = Reader(rating_scale=(1, 10))\n",
        "data = Dataset.load_from_df(user_ratings_df[['user_id', 'title', 'rating']], reader)"
      ],
      "metadata": {
        "id": "mFkG6NfwE_rA"
      },
      "execution_count": 11,
      "outputs": []
    },
    {
      "cell_type": "code",
      "source": [
        "trainset, testset = train_test_split(data, test_size=0.2, random_state=42)"
      ],
      "metadata": {
        "id": "kOrawUQ6FCau"
      },
      "execution_count": 12,
      "outputs": []
    },
    {
      "cell_type": "code",
      "source": [
        "svd = SVD()\n",
        "svd.fit(trainset)"
      ],
      "metadata": {
        "colab": {
          "base_uri": "https://localhost:8080/"
        },
        "id": "yTANJt0sFHXx",
        "outputId": "c8baa556-c81e-42df-ead0-e67cdf18c3f1"
      },
      "execution_count": 13,
      "outputs": [
        {
          "output_type": "execute_result",
          "data": {
            "text/plain": [
              "<surprise.prediction_algorithms.matrix_factorization.SVD at 0x7947dd5dcfa0>"
            ]
          },
          "metadata": {},
          "execution_count": 13
        }
      ]
    },
    {
      "cell_type": "code",
      "source": [
        "predictions = svd.test(testset)\n",
        "rmse = accuracy.rmse(predictions)\n",
        "print(f'RMSE: {rmse}')"
      ],
      "metadata": {
        "colab": {
          "base_uri": "https://localhost:8080/"
        },
        "id": "0PliZIQ7FL24",
        "outputId": "954ab258-e98e-42c9-b4e4-cac2846f9387"
      },
      "execution_count": 14,
      "outputs": [
        {
          "output_type": "stream",
          "name": "stdout",
          "text": [
            "RMSE: 2.6958\n",
            "RMSE: 2.6957807483623135\n"
          ]
        }
      ]
    },
    {
      "cell_type": "code",
      "source": [
        "user_id = 'user_17'\n",
        "all_titles = user_ratings_df['title'].unique()"
      ],
      "metadata": {
        "id": "ip2Gw_PTFP2t"
      },
      "execution_count": 15,
      "outputs": []
    },
    {
      "cell_type": "code",
      "source": [
        "user_rated_titles = user_ratings_df[user_ratings_df['user_id'] == user_id]['title']\n",
        "unrated_titles = [title for title in all_titles if title not in user_rated_titles.values]"
      ],
      "metadata": {
        "id": "mdMhNbwdFU4m"
      },
      "execution_count": 16,
      "outputs": []
    },
    {
      "cell_type": "code",
      "source": [
        "recommendations = []\n",
        "for title in unrated_titles:\n",
        "    est_rating = svd.predict(user_id, title).est\n",
        "    recommendations.append((title, est_rating))\n",
        "\n",
        "recommendations.sort(key=lambda x: x[1], reverse=True)"
      ],
      "metadata": {
        "id": "ziwkSZxqFYKg"
      },
      "execution_count": 17,
      "outputs": []
    },
    {
      "cell_type": "code",
      "source": [
        "print(\"Top 5 movie recommendations for user:\", user_id)\n",
        "for title, rating in recommendations[:5]:\n",
        "    print(f\"{title}: estimated rating {rating:.2f}\")"
      ],
      "metadata": {
        "colab": {
          "base_uri": "https://localhost:8080/"
        },
        "id": "2JZAJX5nFgnl",
        "outputId": "97fe77cf-a14a-4e7d-f5cb-b97f1e2ba7d6"
      },
      "execution_count": 18,
      "outputs": [
        {
          "output_type": "stream",
          "name": "stdout",
          "text": [
            "Top 5 movie recommendations for user: user_17\n",
            "Forrest Gump: estimated rating 7.89\n",
            "The Legend of 1900: estimated rating 7.76\n",
            "A Clockwork Orange: estimated rating 7.76\n",
            "The Last Picture Show: estimated rating 7.60\n",
            "Up: estimated rating 7.60\n"
          ]
        }
      ]
    },
    {
      "cell_type": "code",
      "source": [
        "def recommend_movies_for_user(user_id, num_recommendations=5):\n",
        "    if user_id not in user_ratings_df['user_id'].unique():\n",
        "        print(f\"User ID '{user_id}' not found in dataset.\")\n",
        "        return\n",
        "\n",
        "    all_titles = user_ratings_df['title'].unique()\n",
        "\n",
        "    user_rated_titles = user_ratings_df[user_ratings_df['user_id'] == user_id]['title']\n",
        "    unrated_titles = [title for title in all_titles if title not in user_rated_titles.values]\n",
        "\n",
        "    recommendations = []\n",
        "    for title in unrated_titles:\n",
        "        est_rating = svd.predict(user_id, title).est\n",
        "        recommendations.append((title, est_rating))\n",
        "\n",
        "    recommendations.sort(key=lambda x: x[1], reverse=True)\n",
        "\n",
        "    print(f\"Top {num_recommendations} movie recommendations for user '{user_id}':\")\n",
        "    for title, rating in recommendations[:num_recommendations]:\n",
        "        print(f\"{title}: estimated rating {rating:.2f}\")\n",
        "\n",
        "user_id_to_recommend = 'user_100'\n",
        "recommend_movies_for_user(user_id_to_recommend, num_recommendations=8)"
      ],
      "metadata": {
        "colab": {
          "base_uri": "https://localhost:8080/"
        },
        "id": "-TOtJIB10-G3",
        "outputId": "a7ad3063-3a94-4417-c620-1afee0dc017b"
      },
      "execution_count": 19,
      "outputs": [
        {
          "output_type": "stream",
          "name": "stdout",
          "text": [
            "Top 8 movie recommendations for user 'user_100':\n",
            "The Bourne Ultimatum: estimated rating 6.66\n",
            "Kind Hearts and Coronets: estimated rating 6.35\n",
            "Gran Torino: estimated rating 6.23\n",
            "Before Sunset: estimated rating 6.21\n",
            "Mad Max: Fury Road: estimated rating 6.16\n",
            "The Princess Bride: estimated rating 6.15\n",
            "The Lord of the Rings: The Fellowship of the Ring: estimated rating 6.12\n",
            "Requiem for a Dream: estimated rating 6.05\n"
          ]
        }
      ]
    },
    {
      "cell_type": "code",
      "source": [
        "user_ratings_df.to_csv('synthetic_user_ratings.csv', index=False)"
      ],
      "metadata": {
        "id": "pTW-6lNlDI61"
      },
      "execution_count": 20,
      "outputs": []
    },
    {
      "cell_type": "code",
      "source": [
        "import pandas as pd\n",
        "import numpy as np\n",
        "\n",
        "user_ratings_df = pd.read_csv('synthetic_user_ratings.csv')\n",
        "\n",
        "\n",
        "def recommend_movies_by_genre(user_id, genre, num_recommendations=5):\n",
        "    genre_movies = df[df['Genre'].str.contains(genre, case=False, na=False)]\n",
        "    rated_movies = user_ratings_df[user_ratings_df['user_id'] == user_id]\n",
        "    unrated_movies = genre_movies[~genre_movies['Title'].isin(rated_movies['title'])]\n",
        "    recommended_movies = unrated_movies.sort_values(by='imdbRating', ascending=False).head(num_recommendations)\n",
        "\n",
        "    return recommended_movies[['Title', 'imdbRating', 'Genre']]\n",
        "\n",
        "\n",
        "user_id = 'user_821'\n",
        "genre = 'Sci-Fi'\n",
        "recommendations = recommend_movies_by_genre(user_id, genre)\n",
        "\n",
        "print(\"Recommended Movies:\")\n",
        "print(recommendations)"
      ],
      "metadata": {
        "colab": {
          "base_uri": "https://localhost:8080/"
        },
        "id": "vBiTeFTKGtyt",
        "outputId": "6e7c636e-b710-41db-eea0-50995d04e6c1"
      },
      "execution_count": 21,
      "outputs": [
        {
          "output_type": "stream",
          "name": "stdout",
          "text": [
            "Recommended Movies:\n",
            "                         Title  imdbRating                      Genre\n",
            "12                   Inception         8.8  Action, Adventure, Sci-Fi\n",
            "16                  The Matrix         8.7             Action, Sci-Fi\n",
            "25                Interstellar         8.6   Adventure, Drama, Sci-Fi\n",
            "36  Terminator 2: Judgment Day         8.5   Action, Sci-Fi, Thriller\n",
            "37          Back to the Future         8.5  Adventure, Comedy, Sci-Fi\n"
          ]
        }
      ]
    },
    {
      "cell_type": "code",
      "source": [
        "user_id = 'user_180'\n",
        "genre = 'Romance'\n",
        "recommendations = recommend_movies_by_genre(user_id, genre)\n",
        "\n",
        "print(\"Recommended Movies:\")\n",
        "print(recommendations)"
      ],
      "metadata": {
        "colab": {
          "base_uri": "https://localhost:8080/"
        },
        "id": "xt9e2Vx3yicK",
        "outputId": "72dc1b22-a8f9-410e-e8ab-87e0ebcdc420"
      },
      "execution_count": 22,
      "outputs": [
        {
          "output_type": "stream",
          "name": "stdout",
          "text": [
            "Recommended Movies:\n",
            "              Title  imdbRating                       Genre\n",
            "10     Forrest Gump         8.8      Comedy, Drama, Romance\n",
            "24      City Lights         8.6      Comedy, Drama, Romance\n",
            "28       Casablanca         8.5         Drama, Romance, War\n",
            "53  American Beauty         8.4              Drama, Romance\n",
            "58          Vertigo         8.4  Mystery, Romance, Thriller\n"
          ]
        }
      ]
    },
    {
      "cell_type": "code",
      "source": [
        "from sklearn.metrics.pairwise import cosine_similarity"
      ],
      "metadata": {
        "id": "6KGmlsBwXM3y"
      },
      "execution_count": 23,
      "outputs": []
    },
    {
      "cell_type": "code",
      "source": [
        "user_ratings_df = pd.read_csv('synthetic_user_ratings.csv')\n",
        "\n",
        "print(user_ratings_df.head())"
      ],
      "metadata": {
        "colab": {
          "base_uri": "https://localhost:8080/"
        },
        "id": "vjaOjfzfXQws",
        "outputId": "98b2dde0-33bf-455b-8378-a0ccb6ecb2a8"
      },
      "execution_count": 24,
      "outputs": [
        {
          "output_type": "stream",
          "name": "stdout",
          "text": [
            "  user_id                            title    rating\n",
            "0  user_1  Monty Python and the Holy Grail  4.554274\n",
            "1  user_1           Spider-Man: Homecoming  5.169770\n",
            "2  user_1   The Nightmare Before Christmas  9.944447\n",
            "3  user_1                    The Apartment  2.368272\n",
            "4  user_1                        Gone Girl  9.125185\n"
          ]
        }
      ]
    },
    {
      "cell_type": "code",
      "source": [
        "user_item_matrix = user_ratings_df.pivot_table(index='user_id', columns='title', values='rating', fill_value=0)\n",
        "\n",
        "print(user_item_matrix.head())"
      ],
      "metadata": {
        "colab": {
          "base_uri": "https://localhost:8080/"
        },
        "id": "uEsbJP10Xa6N",
        "outputId": "6c114392-3683-4f00-8dc9-f3d3b417c82c"
      },
      "execution_count": 25,
      "outputs": [
        {
          "output_type": "stream",
          "name": "stdout",
          "text": [
            "title      12 Angry Men  12 Years a Slave  2001: A Space Odyssey  \\\n",
            "user_id                                                            \n",
            "user_1              0.0               0.0                    0.0   \n",
            "user_10             0.0               0.0                    0.0   \n",
            "user_100            0.0               0.0                    0.0   \n",
            "user_1000           0.0               0.0                    0.0   \n",
            "user_101            0.0               0.0                    0.0   \n",
            "\n",
            "title      A Beautiful Mind  A Christmas Story  A Clockwork Orange  \\\n",
            "user_id                                                              \n",
            "user_1                  0.0                0.0                 0.0   \n",
            "user_10                 0.0                0.0                 0.0   \n",
            "user_100                0.0                0.0                 0.0   \n",
            "user_1000               0.0                0.0                 0.0   \n",
            "user_101                0.0                0.0                 0.0   \n",
            "\n",
            "title      A Night at the Opera  A Streetcar Named Desire  Aladdin  Alien  \\\n",
            "user_id                                                                     \n",
            "user_1                      0.0                       0.0      0.0    0.0   \n",
            "user_10                     0.0                       0.0      0.0    0.0   \n",
            "user_100                    0.0                       0.0      0.0    0.0   \n",
            "user_1000                   0.0                       0.0      0.0    0.0   \n",
            "user_101                    0.0                       0.0      0.0    0.0   \n",
            "\n",
            "title      ...  V for Vendetta  Vertigo  WALL·E  Warrior  \\\n",
            "user_id    ...                                             \n",
            "user_1     ...             0.0      0.0     0.0      0.0   \n",
            "user_10    ...             0.0      0.0     0.0      0.0   \n",
            "user_100   ...             0.0      0.0     0.0      0.0   \n",
            "user_1000  ...             0.0      0.0     0.0      0.0   \n",
            "user_101   ...             0.0      0.0     0.0      0.0   \n",
            "\n",
            "title      What Ever Happened to Baby Jane?  Whiplash  \\\n",
            "user_id                                                 \n",
            "user_1                             0.000000       0.0   \n",
            "user_10                            0.000000       0.0   \n",
            "user_100                           0.000000       0.0   \n",
            "user_1000                          0.000000       0.0   \n",
            "user_101                           3.648801       0.0   \n",
            "\n",
            "title      Who's Afraid of Virginia Woolf?  Witness for the Prosecution  \\\n",
            "user_id                                                                   \n",
            "user_1                                 0.0                          0.0   \n",
            "user_10                                0.0                          0.0   \n",
            "user_100                               0.0                          0.0   \n",
            "user_1000                              0.0                          0.0   \n",
            "user_101                               0.0                          0.0   \n",
            "\n",
            "title      Young Frankenstein  Zootopia  \n",
            "user_id                                  \n",
            "user_1                    0.0       0.0  \n",
            "user_10                   0.0       0.0  \n",
            "user_100                  0.0       0.0  \n",
            "user_1000                 0.0       0.0  \n",
            "user_101                  0.0       0.0  \n",
            "\n",
            "[5 rows x 250 columns]\n"
          ]
        }
      ]
    },
    {
      "cell_type": "code",
      "source": [
        "user_similarity = cosine_similarity(user_item_matrix)\n",
        "user_similarity_df = pd.DataFrame(user_similarity, index=user_item_matrix.index, columns=user_item_matrix.index)\n",
        "\n",
        "print(user_similarity_df.head())\n"
      ],
      "metadata": {
        "colab": {
          "base_uri": "https://localhost:8080/"
        },
        "id": "Kkv2EVTdXhSQ",
        "outputId": "b2cd1829-d91a-4094-f118-de29f833c779"
      },
      "execution_count": 26,
      "outputs": [
        {
          "output_type": "stream",
          "name": "stdout",
          "text": [
            "user_id      user_1   user_10  user_100  user_1000  user_101  user_102  \\\n",
            "user_id                                                                  \n",
            "user_1     1.000000  0.000000  0.000000   0.055895  0.000000  0.000000   \n",
            "user_10    0.000000  1.000000  0.044308   0.106780  0.000000  0.000000   \n",
            "user_100   0.000000  0.044308  1.000000   0.000000  0.040462  0.000000   \n",
            "user_1000  0.055895  0.106780  0.000000   1.000000  0.000000  0.081838   \n",
            "user_101   0.000000  0.000000  0.040462   0.000000  1.000000  0.000000   \n",
            "\n",
            "user_id    user_103  user_104  user_105  user_106  ...  user_990  user_991  \\\n",
            "user_id                                            ...                       \n",
            "user_1     0.000000  0.000000  0.039586  0.124237  ...  0.000000  0.000000   \n",
            "user_10    0.044950  0.080512  0.024717  0.025145  ...  0.126881  0.022212   \n",
            "user_100   0.000000  0.000000  0.005248  0.000000  ...  0.075993  0.000000   \n",
            "user_1000  0.142449  0.000000  0.000000  0.019914  ...  0.000000  0.112880   \n",
            "user_101   0.000000  0.000000  0.029595  0.145096  ...  0.000000  0.000000   \n",
            "\n",
            "user_id    user_992  user_993  user_994  user_995  user_996  user_997  \\\n",
            "user_id                                                                 \n",
            "user_1     0.041196  0.000000  0.130917  0.000000  0.019931  0.014977   \n",
            "user_10    0.000000  0.000000  0.269745  0.073813  0.033048  0.000000   \n",
            "user_100   0.057355  0.230493  0.117476  0.093466  0.076330  0.115184   \n",
            "user_1000  0.000000  0.012834  0.034222  0.098198  0.077245  0.074697   \n",
            "user_101   0.037166  0.050537  0.000000  0.096666  0.063809  0.153092   \n",
            "\n",
            "user_id    user_998  user_999  \n",
            "user_id                        \n",
            "user_1     0.183275  0.000000  \n",
            "user_10    0.087584  0.061516  \n",
            "user_100   0.051545  0.074555  \n",
            "user_1000  0.040657  0.084123  \n",
            "user_101   0.000000  0.000000  \n",
            "\n",
            "[5 rows x 1000 columns]\n"
          ]
        }
      ]
    },
    {
      "cell_type": "code",
      "source": [
        "def recommend_movies(user_id, user_item_matrix, user_similarity_df, num_recommendations=5):\n",
        "    similar_users = user_similarity_df[user_id]\n",
        "    similar_users_ratings = user_item_matrix.loc[similar_users.index]\n",
        "    weighted_ratings = similar_users_ratings.T.dot(similar_users) / similar_users.sum()\n",
        "    recommended_movies = weighted_ratings[~user_item_matrix.loc[user_id].astype(bool)].sort_values(ascending=False).head(num_recommendations)\n",
        "\n",
        "    return recommended_movies"
      ],
      "metadata": {
        "id": "Dc4yGvKgXngi"
      },
      "execution_count": 27,
      "outputs": []
    },
    {
      "cell_type": "code",
      "source": [
        "user_id = 'user_119'\n",
        "recommendations = recommend_movies(user_id, user_item_matrix, user_similarity_df)\n",
        "\n",
        "print(\"Recommended Movies:\")\n",
        "print(recommendations)"
      ],
      "metadata": {
        "colab": {
          "base_uri": "https://localhost:8080/"
        },
        "id": "ENQeWtDDXqBW",
        "outputId": "30f9b2f6-bade-47fe-a355-c7ca1dc27064"
      },
      "execution_count": 28,
      "outputs": [
        {
          "output_type": "stream",
          "name": "stdout",
          "text": [
            "Recommended Movies:\n",
            "title\n",
            "Donnie Darko                          0.446223\n",
            "Se7en                                 0.441621\n",
            "A Christmas Story                     0.430351\n",
            "Butch Cassidy and the Sundance Kid    0.427591\n",
            "Blood Diamond                         0.427572\n",
            "dtype: float64\n"
          ]
        }
      ]
    }
  ]
}